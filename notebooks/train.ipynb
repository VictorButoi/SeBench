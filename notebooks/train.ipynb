{
 "cells": [
  {
   "cell_type": "code",
   "execution_count": 1,
   "id": "9b121a30",
   "metadata": {},
   "outputs": [],
   "source": [
    "# Define useful paths\n",
    "SCRATCH_ROOT = \"/storage/vbutoi/scratch/ESE/SeBench\"\n",
    "CONFIG_ROOT = \"/storage/vbutoi/projects/SeBench/configs\"\n",
    "\n",
    "# IonPy imports\n",
    "from ionpy.util import Config\n",
    "\n",
    "%load_ext yamlmagic\n",
    "%load_ext autoreload\n",
    "%autoreload 2"
   ]
  },
  {
   "cell_type": "code",
   "execution_count": null,
   "id": "ed8ce121",
   "metadata": {},
   "outputs": [],
   "source": [
    "%%yaml default_cfg \n",
    "\n",
    "experiment:\n",
    "  seed: '?' \n",
    "  val_first: False \n",
    "  torch_compile: True \n",
    "  torch_mixed_precision: False\n",
    "  sys_paths:\n",
    "    - \"/storage/vbutoi/projects\"\n",
    "    - \"/storage/vbutoi/projects/SeBench\"\n",
    "  data_paths:\n",
    "    - \"/storage\"\n",
    "    - \"/storage/vbutoi/datasets\"\n",
    "    \n",
    "dataloader:\n",
    "  batch_size: '?' \n",
    "  num_workers: '?'\n",
    "  pin_memory: True \n",
    "\n",
    "optim: \n",
    "  _class: torch.optim.Adam\n",
    "  lr: 1.0e-4 \n",
    "  \n",
    "train:\n",
    "  epochs: 300 \n",
    "  eval_freq: 10 \n",
    "\n",
    "# Used for additional data experiment.\n",
    "data:\n",
    "  train_kwargs:\n",
    "    split: 'train'\n",
    "  val_kwargs: \n",
    "    split: 'val'\n",
    "  \n",
    "loss_func: \n",
    "  _class: sebench.losses.SoftDiceLoss\n",
    "  from_logits: True\n",
    "  batch_reduction: 'mean' \n",
    "  ignore_empty_labels: False "
   ]
  },
  {
   "cell_type": "code",
   "execution_count": null,
   "id": "214d052f",
   "metadata": {},
   "outputs": [],
   "source": [
    "%%yaml log_cfg\n",
    "\n",
    "log:\n",
    "  root: '?'\n",
    "  checkpoint_freq: 10 \n",
    "  metrics:\n",
    "    dice_score:\n",
    "      _fn: ionpy.metrics.dice_score\n",
    "      batch_reduction: 'mean' \n",
    "      ignore_empty_labels: False \n",
    "      from_logits: True"
   ]
  },
  {
   "cell_type": "code",
   "execution_count": null,
   "id": "e2ac20c6",
   "metadata": {},
   "outputs": [],
   "source": [
    "%%yaml model_cfg  \n",
    "\n",
    "model:\n",
    "  _class: sebench.models.Segmenter\n",
    "  in_channels: 1\n",
    "  out_channels: 2\n",
    "  dec_type: \"mask\"\n",
    "  img_res:\n",
    "    - 64 \n",
    "    - 64 "
   ]
  },
  {
   "cell_type": "code",
   "execution_count": null,
   "id": "01c7ad0b",
   "metadata": {},
   "outputs": [],
   "source": [
    "%%yaml callbacks_cfg\n",
    "\n",
    "callbacks:\n",
    "  step:\n",
    "    - sebench.callbacks.ShowPredictions\n",
    "  epoch:\n",
    "    - ionpy.callbacks.WandbLogger\n",
    "    - ionpy.callbacks.ETA\n",
    "    - ionpy.callbacks.JobProgress\n",
    "    - ionpy.callbacks.TerminateOnNaN\n",
    "    - ionpy.callbacks.PrintLogged\n",
    "    - ionpy.callbacks.ModelCheckpoint:\n",
    "        monitor: dice_score\n",
    "        phase: val"
   ]
  },
  {
   "cell_type": "code",
   "execution_count": 6,
   "id": "c94caba0",
   "metadata": {},
   "outputs": [],
   "source": [
    "# %%yaml aug_cfg\n",
    "\n",
    "# augmentations:\n",
    "#     spatial:\n",
    "#         max_translation: 5.0\n",
    "#         max_rotation: 5.0\n",
    "#         max_scaling: 1.1\n",
    "#         warp_integrations: 5\n",
    "#         warp_smoothing_range: [10, 20]\n",
    "#         warp_magnitude_range: [1, 3]\n",
    "#         affine_probability: 0.5\n",
    "#         warp_probability: 0.5\n",
    "#     visual:\n",
    "#         use_mask: False \n",
    "#         added_noise_max_sigma: 0.01\n",
    "#         gamma_scaling_max: 0.1\n",
    "#         bias_field_probability: 0.5\n",
    "#         gamma_scaling_probability: 0.5\n",
    "#         added_noise_probability: 0.5"
   ]
  },
  {
   "cell_type": "code",
   "execution_count": null,
   "id": "738b1c2e",
   "metadata": {},
   "outputs": [],
   "source": [
    "%%yaml experiment_cfg \n",
    "\n",
    "group: \"WBC_Segmenter\"\n",
    "\n",
    "experiment:\n",
    "    seed: 40\n",
    "    seed_range: 1\n",
    "    torch_compile: False \n",
    "\n",
    "data:\n",
    "    _class: \"sebench.datasets.Segment2D\"\n",
    "    task: \"WBC/CV/EM/0\"\n",
    "    resolution: 64\n",
    "\n",
    "dataloader:\n",
    "    batch_size: 1\n",
    "    num_workers: 1"
   ]
  },
  {
   "cell_type": "code",
   "execution_count": null,
   "id": "8769a35d",
   "metadata": {},
   "outputs": [],
   "source": [
    "# from sebench.experiment.utils import get_training_configs\n",
    "from sebench.scripts import get_training_configs\n",
    "\n",
    "# Get the configs for the different runs.\n",
    "base_cfg = Config(default_cfg).update([model_cfg, log_cfg, callbacks_cfg])\n",
    "# base_cfg = Config(default_cfg).update([model_cfg, log_cfg, callbacks_cfg, aug_cfg])\n",
    "\n",
    "# Get the different experiment cfg yamls.\n",
    "updated_base_cfg, train_cfgs = get_training_configs(\n",
    "    exp_cfg=experiment_cfg, \n",
    "    base_cfg=base_cfg,\n",
    "    config_root=CONFIG_ROOT,\n",
    "    scratch_root=SCRATCH_ROOT\n",
    ")"
   ]
  },
  {
   "cell_type": "code",
   "execution_count": null,
   "id": "d7904470",
   "metadata": {},
   "outputs": [],
   "source": [
    "len(train_cfgs)"
   ]
  },
  {
   "cell_type": "markdown",
   "id": "2225fe62",
   "metadata": {},
   "source": [
    "## Running Jobs"
   ]
  },
  {
   "cell_type": "code",
   "execution_count": null,
   "id": "edbdcf3d",
   "metadata": {},
   "outputs": [],
   "source": [
    "####### FOR DEBUGGIN\n",
    "from ionpy.slite import run_exp\n",
    "from sebench.experiment import SegTrainExperiment\n",
    "\n",
    "run_exp(\n",
    "    config=train_cfgs[0], \n",
    "    experiment_class=SegTrainExperiment,\n",
    "    run_name='debug',\n",
    "    show_examples=True,\n",
    "    track_wandb=False,\n",
    "    gpu='0',\n",
    ")"
   ]
  },
  {
   "cell_type": "code",
   "execution_count": null,
   "id": "efa09e0b",
   "metadata": {},
   "outputs": [],
   "source": [
    "%%yaml submit_cfg\n",
    "\n",
    "mode: \"local\"\n",
    "group: \"training\"\n",
    "add_date: True\n",
    "track_wandb: True\n",
    "scratch_root: \"/storage/vbutoi/scratch/ESE/SeBench\""
   ]
  },
  {
   "cell_type": "code",
   "execution_count": null,
   "id": "05938b03",
   "metadata": {},
   "outputs": [],
   "source": [
    "# # FOR SUBMISSION\n",
    "# from ionpy.slite import submit_exps\n",
    "# from sebench.experiment.train import SegTrainExperiment\n",
    "\n",
    "# submit_exps(\n",
    "#     submit_cfg=submit_cfg,\n",
    "#     config_list=train_cfgs,\n",
    "#     exp_cfg=experiment_cfg,\n",
    "#     base_cfg=updated_base_cfg,\n",
    "#     experiment_class=SegTrainExperiment,\n",
    "#     available_gpus=['0', '1', '2', '3', '4', '5', '6', '7'],\n",
    "# )"
   ]
  }
 ],
 "metadata": {
  "kernelspec": {
   "display_name": "Python 3",
   "language": "python",
   "name": "python3"
  },
  "language_info": {
   "codemirror_mode": {
    "name": "ipython",
    "version": 3
   },
   "file_extension": ".py",
   "mimetype": "text/x-python",
   "name": "python",
   "nbconvert_exporter": "python",
   "pygments_lexer": "ipython3",
   "version": "3.9.16"
  }
 },
 "nbformat": 4,
 "nbformat_minor": 5
}
