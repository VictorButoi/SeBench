{
 "cells": [
  {
   "cell_type": "code",
   "execution_count": 1,
   "metadata": {},
   "outputs": [],
   "source": [
    "# Random Imports\n",
    "import os\n",
    "import sys\n",
    "import yaml\n",
    "from pathlib import Path\n",
    "from pprint import pprint\n",
    "sys.path.append('/storage/vbutoi/projects')\n",
    "sys.path.append('/storage/vbutoi/libraries')\n",
    "sys.path.append('/storage/vbutoi/libraries/voxynth')\n",
    "sys.path.append('/storage/vbutoi/projects/ESE')\n",
    "sys.path.append('/storage/vbutoi/projects/UniverSegDev')\n",
    "\n",
    "# Regular schema dictates that we put DATAPATH\n",
    "os.environ['DATAPATH'] = ':'.join((\n",
    "       '/storage/vbutoi/datasets',\n",
    "))\n",
    "os.environ['WANDB_NOTEBOOK_NAME'] = 'calibrate.ipynb'\n",
    "\n",
    "# IonPy imports\n",
    "from ionpy.util import Config\n",
    "\n",
    "%load_ext yamlmagic\n",
    "%load_ext autoreload\n",
    "%autoreload 2"
   ]
  },
  {
   "cell_type": "code",
   "execution_count": null,
   "metadata": {},
   "outputs": [],
   "source": [
    "%%yaml default_cfg\n",
    "\n",
    "experiment:\n",
    "  val_first: True \n",
    "  torch_compile: True \n",
    "  torch_mixed_precision: False \n",
    "\n",
    "dataloader:\n",
    "  batch_size: '?'\n",
    "  num_workers: '?' \n",
    "  pin_memory: True \n",
    "\n",
    "optim: # Unclear if we should tune this or not.\n",
    "  _class: torch.optim.Adam\n",
    "  lr: '?'\n",
    "\n",
    "train:\n",
    "  epochs: '?'\n",
    "  eval_freq: '?'\n",
    "  base_pretrained_dir: '?'\n",
    "  use_pretrained_norm_augs: True \n",
    "  base_checkpoint: 'max-val-dice_score'\n",
    "  base_pt_select_metric: 'val-dice_score'\n",
    "\n",
    "loss_func: \n",
    "  _class: '?'"
   ]
  },
  {
   "cell_type": "code",
   "execution_count": null,
   "metadata": {},
   "outputs": [],
   "source": [
    "%%yaml log_cfg\n",
    "\n",
    "log:\n",
    "  checkpoint_freq: 10\n",
    "  root: '?'\n",
    "  metrics:\n",
    "    abs_area_estimation_error:\n",
    "      _fn: ese.losses.area_estimation_error\n",
    "      from_logits: True\n",
    "      abs_diff: True"
   ]
  },
  {
   "cell_type": "code",
   "execution_count": null,
   "metadata": {},
   "outputs": [],
   "source": [
    "%%yaml callbacks_cfg\n",
    "\n",
    "callbacks:\n",
    "  step:\n",
    "    - ese.callbacks.ShowPredictions\n",
    "  epoch:\n",
    "    - ese.callbacks.WandbLogger\n",
    "    - ionpy.callbacks.ETA\n",
    "    - ionpy.callbacks.JobProgress\n",
    "    - ionpy.callbacks.TerminateOnNaN\n",
    "    - ionpy.callbacks.PrintLogged\n",
    "    - ionpy.callbacks.ModelCheckpoint:\n",
    "        monitor: \n",
    "          - abs_area_estimation_error\n",
    "        phase: val"
   ]
  },
  {
   "cell_type": "code",
   "execution_count": null,
   "metadata": {},
   "outputs": [],
   "source": [
    "%%yaml calibrator_defaults_cfg \n",
    "\n",
    "TS:\n",
    "  _class: ese.models.calibrators.Temperature_Scaling\n",
    "\n",
    "LTS:\n",
    "  _class: ese.models.calibrators.LocalTS\n",
    "  img_channels: 1\n",
    "  num_classes: 1\n",
    "  dims: '?'\n",
    "  filters: [8, 8, 8]\n",
    "\n",
    "3D_LTS_Huge:\n",
    "  _class: ese.models.calibrators.LocalTS\n",
    "  img_channels: 1\n",
    "  num_classes: 1\n",
    "  use_image: True\n",
    "  abs_output: '?'\n",
    "  dims: 3\n",
    "  convs_per_block: 2\n",
    "  filters: [64, 64, 64, 64, 64]\n",
    "\n",
    "SCTS:\n",
    "  _class: ese.models.resnet.SCTS\n",
    "  dims: '?' \n",
    "  img_channels: 1\n",
    "  num_classes: 1\n",
    "  use_image: True \n",
    "  use_norm: True\n",
    "  dims: 3\n",
    "  # filters: [32, 32, 32]\n",
    "  filters: [16, 16, 16]\n",
    "  temp_range: (0.0, 3.0)\n",
    "  blocks_per_layer: 2\n",
    "\n",
    "E2T:\n",
    "  _class: ese.models.peft.E2T\n",
    "  in_features: 64\n",
    "  num_classes: 1\n",
    "  dims: 2\n",
    "  features: [16, 16]\n",
    "  temp_range: (0.0, 3.0)\n",
    "  pool_fn: '?'\n"
   ]
  },
  {
   "cell_type": "code",
   "execution_count": null,
   "metadata": {},
   "outputs": [],
   "source": [
    "%%yaml aug_cfg\n",
    "\n",
    "augmentations:\n",
    "    spatial:\n",
    "        max_translation: 5.0\n",
    "        max_rotation: 5.0\n",
    "        max_scaling: 1.1\n",
    "        warp_integrations: 5\n",
    "        warp_smoothing_range: [10, 20]\n",
    "        warp_magnitude_range: [1, 3]\n",
    "        affine_probability: 0.5\n",
    "        warp_probability: 0.5"
   ]
  },
  {
   "cell_type": "code",
   "execution_count": null,
   "metadata": {},
   "outputs": [],
   "source": [
    "%%yaml experiment_cfg \n",
    "\n",
    "name: \"OCTA_PredSweepSmall\"\n",
    "\n",
    "train: \n",
    "    base_pretrained_dir: \"/storage/vbutoi/scratch/ESE/training/August_2024/08_07_24_OCTA_FULLRES_CrossEntropy/20240807_144627-M576-c3a81247e7e30c6bf47c72748764a898\"\n",
    "\n",
    "data:\n",
    "    target: 'seg'\n",
    "\n",
    "model:\n",
    "    class_name: E2T \n",
    "    pool_fn: 'max'\n",
    "    # pool_fn: 'mean'\n",
    "  \n",
    "optim:\n",
    "    lr: 1.0e-2\n",
    "\n",
    "dataloader:\n",
    "    batch_size: 1\n",
    "    num_workers: 1\n",
    "\n",
    "loss_func:\n",
    "    _class: ese.losses.AreaEstimationError \n",
    "    square_diff: True\n",
    "    from_logits: True"
   ]
  },
  {
   "cell_type": "code",
   "execution_count": null,
   "metadata": {},
   "outputs": [],
   "source": [
    "from ese.analysis.analysis_utils.submit_utils import get_ese_calibration_configs\n",
    "\n",
    "# Get the configs for the different runs.\n",
    "base_cfg = Config(default_cfg).update([log_cfg, callbacks_cfg])\n",
    "\n",
    "# For exp management, need a add_date variable because we reuse for func calls below.\n",
    "add_date = True \n",
    "# Build the calibration configs from the options + base\n",
    "updated_base_cfg, cal_cfgs = get_ese_calibration_configs(\n",
    "    exp_cfg=experiment_cfg,\n",
    "    base_cfg=base_cfg,\n",
    "    calibration_model_cfgs=calibrator_defaults_cfg,\n",
    "    add_date=add_date\n",
    ")"
   ]
  },
  {
   "cell_type": "code",
   "execution_count": null,
   "metadata": {},
   "outputs": [],
   "source": [
    "len(cal_cfgs)"
   ]
  },
  {
   "cell_type": "markdown",
   "metadata": {},
   "source": [
    "## Running Jobs"
   ]
  },
  {
   "cell_type": "code",
   "execution_count": 10,
   "metadata": {},
   "outputs": [],
   "source": [
    "from ese.experiment import run_ese_exp, submit_ese_exps, PostHocExperiment"
   ]
  },
  {
   "cell_type": "code",
   "execution_count": null,
   "metadata": {},
   "outputs": [],
   "source": [
    "####### Run individual jobs\n",
    "run_ese_exp(\n",
    "    config=cal_cfgs[0], \n",
    "    experiment_class=PostHocExperiment,\n",
    "    run_name='debug',\n",
    "    show_examples=True,\n",
    "    track_wandb=False,\n",
    "    gpu='4'\n",
    ")"
   ]
  },
  {
   "cell_type": "code",
   "execution_count": null,
   "metadata": {},
   "outputs": [],
   "source": [
    "# ### Run Batch Jobs\n",
    "# submit_ese_exps(\n",
    "#     group=\"calibration\",\n",
    "#     base_cfg=updated_base_cfg,\n",
    "#     exp_cfg=experiment_cfg,\n",
    "#     config_list=cal_cfgs,\n",
    "#     experiment_class=PostHocExperiment,\n",
    "#     add_date=add_date,\n",
    "#     track_wandb=True,\n",
    "#     available_gpus=['0', '1', '2']\n",
    "# )"
   ]
  }
 ],
 "metadata": {
  "kernelspec": {
   "display_name": "Python 3",
   "language": "python",
   "name": "python3"
  },
  "language_info": {
   "codemirror_mode": {
    "name": "ipython",
    "version": 3
   },
   "file_extension": ".py",
   "mimetype": "text/x-python",
   "name": "python",
   "nbconvert_exporter": "python",
   "pygments_lexer": "ipython3",
   "version": "3.9.16"
  },
  "orig_nbformat": 4
 },
 "nbformat": 4,
 "nbformat_minor": 2
}
